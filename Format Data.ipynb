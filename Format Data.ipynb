{
 "cells": [
  {
   "cell_type": "code",
   "execution_count": 6,
   "metadata": {},
   "outputs": [],
   "source": [
    "import numpy as np\n",
    "from scipy import sparse\n",
    "\n",
    "def extract_nodes(edges):\n",
    "    node_idx = 0\n",
    "    node_list = {}\n",
    "    for edge_idx in range(edges.shape[0]):\n",
    "        node_1 = edges[edge_idx, 0]\n",
    "        node_2 = edges[edge_idx, 1]\n",
    "        if node_1 not in node_list.keys():\n",
    "            node_list[node_1] = node_idx\n",
    "            node_idx += 1\n",
    "        if node_2 not in node_list.keys():\n",
    "            node_list[node_2] = node_idx\n",
    "            node_idx += 1\n",
    "    return node_list\n",
    "\n",
    "edges = np.loadtxt('cora/cora.cites', delimiter='\\t', dtype=int)\n",
    "node_list = extract_nodes(edges)"
   ]
  },
  {
   "cell_type": "code",
   "execution_count": 9,
   "metadata": {},
   "outputs": [
    {
     "name": "stdout",
     "output_type": "stream",
     "text": [
      "[[0 1 1 ... 0 0 0]\n",
      " [0 0 0 ... 0 0 0]\n",
      " [0 0 0 ... 0 0 0]\n",
      " ...\n",
      " [0 0 0 ... 0 0 1]\n",
      " [0 0 0 ... 1 0 0]\n",
      " [0 0 0 ... 0 0 0]]\n"
     ]
    }
   ],
   "source": [
    "num_nodes = len(list(node_list.keys()))\n",
    "\n",
    "adj_mat = np.zeros((num_nodes, num_nodes), dtype=np.int8)\n",
    "for edge_idx in range(edges.shape[0]):\n",
    "    node_1 = node_list[edges[edge_idx, 0]]\n",
    "    node_2 = node_list[edges[edge_idx, 1]]\n",
    "    adj_mat[node_1, node_2] = 1"
   ]
  },
  {
   "cell_type": "code",
   "execution_count": 17,
   "metadata": {},
   "outputs": [
    {
     "name": "stdout",
     "output_type": "stream",
     "text": [
      "(2708, 1433)\n",
      "['Genetic_Algorithms', 'Genetic_Algorithms', 'Neural_Networks', 'Genetic_Algorithms', 'Genetic_Algorithms', 'Genetic_Algorithms', 'Genetic_Algorithms', 'Genetic_Algorithms', 'Genetic_Algorithms', 'Genetic_Algorithms', 'Genetic_Algorithms', 'Genetic_Algorithms', 'Genetic_Algorithms', 'Genetic_Algorithms', 'Genetic_Algorithms', 'Neural_Networks', 'Genetic_Algorithms', 'Theory', 'Genetic_Algorithms', 'Genetic_Algorithms', 'Genetic_Algorithms', 'Genetic_Algorithms', 'Genetic_Algorithms', 'Genetic_Algorithms', 'Genetic_Algorithms', 'Genetic_Algorithms', 'Genetic_Algorithms', 'Genetic_Algorithms', 'Genetic_Algorithms', 'Genetic_Algorithms', 'Genetic_Algorithms', 'Genetic_Algorithms', 'Genetic_Algorithms', 'Genetic_Algorithms', 'Genetic_Algorithms', 'Genetic_Algorithms', 'Genetic_Algorithms', 'Genetic_Algorithms', 'Genetic_Algorithms', 'Genetic_Algorithms', 'Genetic_Algorithms', 'Genetic_Algorithms', 'Genetic_Algorithms', 'Genetic_Algorithms', 'Genetic_Algorithms', 'Genetic_Algorithms', 'Genetic_Algorithms', 'Genetic_Algorithms', 'Genetic_Algorithms', 'Genetic_Algorithms', 'Genetic_Algorithms', 'Genetic_Algorithms', 'Genetic_Algorithms', 'Genetic_Algorithms', 'Genetic_Algorithms', 'Reinforcement_Learning', 'Genetic_Algorithms', 'Genetic_Algorithms', 'Genetic_Algorithms', 'Genetic_Algorithms', 'Genetic_Algorithms', 'Neural_Networks', 'Genetic_Algorithms', 'Genetic_Algorithms', 'Genetic_Algorithms', 'Genetic_Algorithms', 'Case_Based', 'Reinforcement_Learning', 'Genetic_Algorithms', 'Genetic_Algorithms', 'Genetic_Algorithms', 'Genetic_Algorithms', 'Genetic_Algorithms', 'Genetic_Algorithms', 'Genetic_Algorithms', 'Neural_Networks', 'Genetic_Algorithms', 'Genetic_Algorithms', 'Genetic_Algorithms', 'Genetic_Algorithms', 'Genetic_Algorithms', 'Genetic_Algorithms', 'Genetic_Algorithms', 'Theory', 'Reinforcement_Learning', 'Genetic_Algorithms', 'Genetic_Algorithms', 'Genetic_Algorithms', 'Genetic_Algorithms', 'Genetic_Algorithms', 'Genetic_Algorithms', 'Genetic_Algorithms', 'Genetic_Algorithms', 'Genetic_Algorithms', 'Genetic_Algorithms', 'Genetic_Algorithms', 'Genetic_Algorithms', 'Genetic_Algorithms', 'Genetic_Algorithms', 'Genetic_Algorithms', 'Genetic_Algorithms', 'Genetic_Algorithms', 'Genetic_Algorithms', 'Genetic_Algorithms', 'Neural_Networks', 'Genetic_Algorithms', 'Genetic_Algorithms', 'Genetic_Algorithms', 'Genetic_Algorithms', 'Genetic_Algorithms', 'Genetic_Algorithms', 'Genetic_Algorithms', 'Genetic_Algorithms', 'Genetic_Algorithms', 'Genetic_Algorithms', 'Genetic_Algorithms', 'Genetic_Algorithms', 'Genetic_Algorithms', 'Genetic_Algorithms', 'Genetic_Algorithms', 'Genetic_Algorithms', 'Genetic_Algorithms', 'Genetic_Algorithms', 'Genetic_Algorithms', 'Genetic_Algorithms', 'Genetic_Algorithms', 'Genetic_Algorithms', 'Genetic_Algorithms', 'Genetic_Algorithms', 'Genetic_Algorithms', 'Genetic_Algorithms', 'Genetic_Algorithms', 'Genetic_Algorithms', 'Genetic_Algorithms', 'Genetic_Algorithms', 'Genetic_Algorithms', 'Genetic_Algorithms', 'Genetic_Algorithms', 'Genetic_Algorithms', 'Genetic_Algorithms', 'Genetic_Algorithms', 'Genetic_Algorithms', 'Genetic_Algorithms', 'Genetic_Algorithms', 'Genetic_Algorithms', 'Genetic_Algorithms', 'Genetic_Algorithms', 'Genetic_Algorithms', 'Genetic_Algorithms', 'Genetic_Algorithms', 'Genetic_Algorithms', 'Genetic_Algorithms', 'Genetic_Algorithms', 'Genetic_Algorithms', 'Genetic_Algorithms', 'Genetic_Algorithms', 'Genetic_Algorithms', 'Genetic_Algorithms', 'Case_Based', 'Genetic_Algorithms', 'Genetic_Algorithms', 'Genetic_Algorithms', 'Reinforcement_Learning', 'Genetic_Algorithms', 'Genetic_Algorithms', 'Genetic_Algorithms', 'Genetic_Algorithms', 'Genetic_Algorithms', 'Genetic_Algorithms', 'Genetic_Algorithms', 'Reinforcement_Learning', 'Reinforcement_Learning', 'Reinforcement_Learning', 'Reinforcement_Learning', 'Reinforcement_Learning', 'Reinforcement_Learning', 'Reinforcement_Learning', 'Reinforcement_Learning', 'Reinforcement_Learning', 'Reinforcement_Learning', 'Reinforcement_Learning', 'Neural_Networks', 'Reinforcement_Learning', 'Reinforcement_Learning', 'Reinforcement_Learning', 'Reinforcement_Learning', 'Reinforcement_Learning', 'Reinforcement_Learning', 'Probabilistic_Methods', 'Reinforcement_Learning', 'Reinforcement_Learning', 'Reinforcement_Learning', 'Reinforcement_Learning', 'Reinforcement_Learning', 'Reinforcement_Learning', 'Reinforcement_Learning', 'Reinforcement_Learning', 'Reinforcement_Learning', 'Reinforcement_Learning', 'Reinforcement_Learning', 'Reinforcement_Learning', 'Reinforcement_Learning', 'Reinforcement_Learning', 'Reinforcement_Learning', 'Reinforcement_Learning', 'Reinforcement_Learning', 'Reinforcement_Learning', 'Reinforcement_Learning', 'Reinforcement_Learning', 'Reinforcement_Learning', 'Reinforcement_Learning', 'Reinforcement_Learning', 'Reinforcement_Learning', 'Reinforcement_Learning', 'Probabilistic_Methods', 'Probabilistic_Methods', 'Reinforcement_Learning', 'Probabilistic_Methods', 'Reinforcement_Learning', 'Reinforcement_Learning', 'Reinforcement_Learning', 'Reinforcement_Learning', 'Reinforcement_Learning', 'Reinforcement_Learning', 'Reinforcement_Learning', 'Reinforcement_Learning', 'Reinforcement_Learning', 'Reinforcement_Learning', 'Reinforcement_Learning', 'Reinforcement_Learning', 'Reinforcement_Learning', 'Rule_Learning', 'Neural_Networks', 'Case_Based', 'Case_Based', 'Neural_Networks', 'Case_Based', 'Case_Based', 'Probabilistic_Methods', 'Probabilistic_Methods', 'Probabilistic_Methods', 'Probabilistic_Methods', 'Probabilistic_Methods', 'Probabilistic_Methods', 'Case_Based', 'Reinforcement_Learning', 'Reinforcement_Learning', 'Reinforcement_Learning', 'Reinforcement_Learning', 'Reinforcement_Learning', 'Neural_Networks', 'Case_Based', 'Genetic_Algorithms', 'Reinforcement_Learning', 'Theory', 'Neural_Networks', 'Neural_Networks', 'Theory', 'Case_Based', 'Genetic_Algorithms', 'Reinforcement_Learning', 'Reinforcement_Learning', 'Reinforcement_Learning', 'Reinforcement_Learning', 'Genetic_Algorithms', 'Neural_Networks', 'Neural_Networks', 'Neural_Networks', 'Neural_Networks', 'Neural_Networks', 'Neural_Networks', 'Neural_Networks', 'Neural_Networks', 'Neural_Networks', 'Neural_Networks', 'Neural_Networks', 'Neural_Networks', 'Neural_Networks', 'Neural_Networks', 'Neural_Networks', 'Neural_Networks', 'Neural_Networks', 'Neural_Networks', 'Neural_Networks', 'Neural_Networks', 'Neural_Networks', 'Neural_Networks', 'Probabilistic_Methods', 'Neural_Networks', 'Neural_Networks', 'Neural_Networks', 'Neural_Networks', 'Neural_Networks', 'Neural_Networks', 'Neural_Networks', 'Neural_Networks', 'Neural_Networks', 'Neural_Networks', 'Neural_Networks', 'Neural_Networks', 'Neural_Networks', 'Genetic_Algorithms', 'Neural_Networks', 'Neural_Networks', 'Neural_Networks', 'Neural_Networks', 'Neural_Networks', 'Neural_Networks', 'Neural_Networks', 'Case_Based', 'Case_Based', 'Case_Based', 'Case_Based', 'Case_Based', 'Case_Based', 'Case_Based', 'Case_Based', 'Case_Based', 'Case_Based', 'Case_Based', 'Case_Based', 'Case_Based', 'Case_Based', 'Case_Based', 'Genetic_Algorithms', 'Genetic_Algorithms', 'Genetic_Algorithms', 'Genetic_Algorithms', 'Genetic_Algorithms', 'Genetic_Algorithms', 'Genetic_Algorithms', 'Reinforcement_Learning', 'Genetic_Algorithms', 'Rule_Learning', 'Rule_Learning', 'Rule_Learning', 'Rule_Learning', 'Neural_Networks', 'Neural_Networks', 'Theory', 'Neural_Networks', 'Reinforcement_Learning', 'Theory', 'Theory', 'Theory', 'Theory', 'Theory', 'Case_Based', 'Theory', 'Neural_Networks', 'Case_Based', 'Theory', 'Theory', 'Theory', 'Theory', 'Theory', 'Rule_Learning', 'Theory', 'Neural_Networks', 'Rule_Learning', 'Case_Based', 'Theory', 'Theory', 'Genetic_Algorithms', 'Rule_Learning', 'Rule_Learning', 'Theory', 'Neural_Networks', 'Rule_Learning', 'Theory', 'Theory', 'Rule_Learning', 'Rule_Learning', 'Theory', 'Rule_Learning', 'Rule_Learning', 'Case_Based', 'Neural_Networks', 'Neural_Networks', 'Neural_Networks', 'Reinforcement_Learning', 'Neural_Networks', 'Neural_Networks', 'Neural_Networks', 'Neural_Networks', 'Neural_Networks', 'Neural_Networks', 'Theory', 'Neural_Networks', 'Reinforcement_Learning', 'Neural_Networks', 'Neural_Networks', 'Neural_Networks', 'Neural_Networks', 'Neural_Networks', 'Neural_Networks', 'Neural_Networks', 'Reinforcement_Learning', 'Neural_Networks', 'Neural_Networks', 'Neural_Networks', 'Neural_Networks', 'Neural_Networks', 'Neural_Networks', 'Neural_Networks', 'Neural_Networks', 'Theory', 'Neural_Networks', 'Neural_Networks', 'Neural_Networks', 'Neural_Networks', 'Neural_Networks', 'Neural_Networks', 'Neural_Networks', 'Neural_Networks', 'Reinforcement_Learning', 'Neural_Networks', 'Neural_Networks', 'Neural_Networks', 'Neural_Networks', 'Neural_Networks', 'Neural_Networks', 'Neural_Networks', 'Neural_Networks', 'Neural_Networks', 'Neural_Networks', 'Neural_Networks', 'Reinforcement_Learning', 'Neural_Networks', 'Neural_Networks', 'Neural_Networks', 'Neural_Networks', 'Neural_Networks', 'Neural_Networks', 'Neural_Networks', 'Neural_Networks', 'Neural_Networks', 'Neural_Networks', 'Neural_Networks', 'Neural_Networks', 'Neural_Networks', 'Neural_Networks', 'Neural_Networks', 'Neural_Networks', 'Neural_Networks', 'Neural_Networks', 'Case_Based', 'Case_Based', 'Case_Based', 'Case_Based', 'Case_Based', 'Case_Based', 'Case_Based', 'Case_Based', 'Rule_Learning', 'Case_Based', 'Case_Based', 'Case_Based', 'Case_Based', 'Case_Based', 'Case_Based', 'Case_Based', 'Genetic_Algorithms', 'Genetic_Algorithms', 'Genetic_Algorithms', 'Genetic_Algorithms', 'Genetic_Algorithms', 'Probabilistic_Methods', 'Probabilistic_Methods', 'Probabilistic_Methods', 'Probabilistic_Methods', 'Theory', 'Neural_Networks', 'Rule_Learning', 'Neural_Networks', 'Genetic_Algorithms', 'Genetic_Algorithms', 'Probabilistic_Methods', 'Probabilistic_Methods', 'Case_Based', 'Case_Based', 'Case_Based', 'Case_Based', 'Case_Based', 'Case_Based', 'Case_Based', 'Case_Based', 'Case_Based', 'Case_Based', 'Case_Based', 'Case_Based', 'Case_Based', 'Case_Based', 'Case_Based', 'Rule_Learning', 'Rule_Learning', 'Rule_Learning', 'Rule_Learning', 'Case_Based', 'Case_Based', 'Case_Based', 'Case_Based', 'Case_Based', 'Case_Based', 'Case_Based', 'Probabilistic_Methods', 'Theory', 'Theory', 'Neural_Networks', 'Probabilistic_Methods', 'Probabilistic_Methods', 'Probabilistic_Methods', 'Probabilistic_Methods', 'Theory', 'Probabilistic_Methods', 'Theory', 'Probabilistic_Methods', 'Case_Based', 'Probabilistic_Methods', 'Theory', 'Theory', 'Theory', 'Theory', 'Theory', 'Case_Based', 'Case_Based', 'Theory', 'Theory', 'Rule_Learning', 'Rule_Learning', 'Rule_Learning', 'Rule_Learning', 'Rule_Learning', 'Rule_Learning', 'Rule_Learning', 'Rule_Learning', 'Rule_Learning', 'Rule_Learning', 'Rule_Learning', 'Rule_Learning', 'Rule_Learning', 'Rule_Learning', 'Rule_Learning', 'Rule_Learning', 'Rule_Learning', 'Rule_Learning', 'Rule_Learning', 'Theory', 'Rule_Learning', 'Rule_Learning', 'Rule_Learning', 'Theory', 'Theory', 'Theory', 'Theory', 'Theory', 'Theory', 'Theory', 'Theory', 'Theory', 'Theory', 'Neural_Networks', 'Theory', 'Theory', 'Theory', 'Theory', 'Theory', 'Theory', 'Theory', 'Theory', 'Neural_Networks', 'Theory', 'Neural_Networks', 'Theory', 'Theory', 'Theory', 'Theory', 'Theory', 'Theory', 'Neural_Networks', 'Neural_Networks', 'Neural_Networks', 'Neural_Networks', 'Probabilistic_Methods', 'Neural_Networks', 'Neural_Networks', 'Neural_Networks', 'Neural_Networks', 'Neural_Networks', 'Neural_Networks', 'Probabilistic_Methods', 'Neural_Networks', 'Neural_Networks', 'Neural_Networks', 'Neural_Networks', 'Neural_Networks', 'Neural_Networks', 'Neural_Networks', 'Neural_Networks', 'Neural_Networks', 'Neural_Networks', 'Neural_Networks', 'Neural_Networks', 'Neural_Networks', 'Neural_Networks', 'Neural_Networks', 'Neural_Networks', 'Neural_Networks', 'Neural_Networks', 'Neural_Networks', 'Neural_Networks', 'Neural_Networks', 'Neural_Networks', 'Neural_Networks', 'Neural_Networks', 'Neural_Networks', 'Neural_Networks', 'Neural_Networks', 'Neural_Networks', 'Neural_Networks', 'Neural_Networks', 'Neural_Networks', 'Neural_Networks', 'Neural_Networks', 'Neural_Networks', 'Neural_Networks', 'Neural_Networks', 'Neural_Networks', 'Neural_Networks', 'Neural_Networks', 'Neural_Networks', 'Neural_Networks', 'Neural_Networks', 'Case_Based', 'Case_Based', 'Case_Based', 'Case_Based', 'Case_Based', 'Case_Based', 'Neural_Networks', 'Neural_Networks', 'Case_Based', 'Case_Based', 'Case_Based', 'Case_Based', 'Case_Based', 'Case_Based', 'Case_Based', 'Case_Based', 'Case_Based', 'Case_Based', 'Case_Based', 'Case_Based', 'Case_Based', 'Probabilistic_Methods', 'Probabilistic_Methods', 'Probabilistic_Methods', 'Probabilistic_Methods', 'Probabilistic_Methods', 'Probabilistic_Methods', 'Neural_Networks', 'Probabilistic_Methods', 'Probabilistic_Methods', 'Probabilistic_Methods', 'Probabilistic_Methods', 'Probabilistic_Methods', 'Probabilistic_Methods', 'Probabilistic_Methods', 'Probabilistic_Methods', 'Probabilistic_Methods', 'Probabilistic_Methods', 'Probabilistic_Methods', 'Theory', 'Probabilistic_Methods', 'Rule_Learning', 'Theory', 'Rule_Learning', 'Rule_Learning', 'Case_Based', 'Theory', 'Theory', 'Theory', 'Rule_Learning', 'Rule_Learning', 'Case_Based', 'Case_Based', 'Rule_Learning', 'Rule_Learning', 'Case_Based', 'Rule_Learning', 'Neural_Networks', 'Neural_Networks', 'Case_Based', 'Case_Based', 'Neural_Networks', 'Case_Based', 'Case_Based', 'Case_Based', 'Case_Based', 'Theory', 'Case_Based', 'Case_Based', 'Case_Based', 'Case_Based', 'Case_Based', 'Theory', 'Case_Based', 'Case_Based', 'Theory', 'Probabilistic_Methods', 'Probabilistic_Methods', 'Probabilistic_Methods', 'Probabilistic_Methods', 'Theory', 'Neural_Networks', 'Neural_Networks', 'Neural_Networks', 'Neural_Networks', 'Genetic_Algorithms', 'Neural_Networks', 'Neural_Networks', 'Genetic_Algorithms', 'Reinforcement_Learning', 'Neural_Networks', 'Neural_Networks', 'Neural_Networks', 'Neural_Networks', 'Neural_Networks', 'Neural_Networks', 'Neural_Networks', 'Neural_Networks', 'Neural_Networks', 'Neural_Networks', 'Reinforcement_Learning', 'Neural_Networks', 'Neural_Networks', 'Probabilistic_Methods', 'Neural_Networks', 'Neural_Networks', 'Neural_Networks', 'Case_Based', 'Neural_Networks', 'Neural_Networks', 'Neural_Networks', 'Reinforcement_Learning', 'Probabilistic_Methods', 'Probabilistic_Methods', 'Neural_Networks', 'Neural_Networks', 'Neural_Networks', 'Probabilistic_Methods', 'Reinforcement_Learning', 'Neural_Networks', 'Genetic_Algorithms', 'Neural_Networks', 'Neural_Networks', 'Genetic_Algorithms', 'Neural_Networks', 'Neural_Networks', 'Neural_Networks', 'Theory', 'Theory', 'Case_Based', 'Case_Based', 'Neural_Networks', 'Case_Based', 'Neural_Networks', 'Rule_Learning', 'Theory', 'Rule_Learning', 'Neural_Networks', 'Theory', 'Neural_Networks', 'Probabilistic_Methods', 'Neural_Networks', 'Theory', 'Case_Based', 'Case_Based', 'Theory', 'Theory', 'Rule_Learning', 'Theory', 'Case_Based', 'Theory', 'Theory', 'Case_Based', 'Probabilistic_Methods', 'Theory', 'Theory', 'Theory', 'Theory', 'Probabilistic_Methods', 'Theory', 'Rule_Learning', 'Theory', 'Case_Based', 'Case_Based', 'Theory', 'Theory', 'Case_Based', 'Reinforcement_Learning', 'Neural_Networks', 'Neural_Networks', 'Theory', 'Neural_Networks', 'Case_Based', 'Case_Based', 'Case_Based', 'Rule_Learning', 'Case_Based', 'Theory', 'Probabilistic_Methods', 'Probabilistic_Methods', 'Neural_Networks', 'Neural_Networks', 'Neural_Networks', 'Probabilistic_Methods', 'Probabilistic_Methods', 'Probabilistic_Methods', 'Neural_Networks', 'Neural_Networks', 'Probabilistic_Methods', 'Neural_Networks', 'Neural_Networks', 'Neural_Networks', 'Neural_Networks', 'Probabilistic_Methods', 'Neural_Networks', 'Neural_Networks', 'Neural_Networks', 'Neural_Networks', 'Reinforcement_Learning', 'Neural_Networks', 'Probabilistic_Methods', 'Neural_Networks', 'Neural_Networks', 'Neural_Networks', 'Neural_Networks', 'Neural_Networks', 'Neural_Networks', 'Probabilistic_Methods', 'Probabilistic_Methods', 'Probabilistic_Methods', 'Probabilistic_Methods', 'Neural_Networks', 'Probabilistic_Methods', 'Theory', 'Probabilistic_Methods', 'Theory', 'Probabilistic_Methods', 'Probabilistic_Methods', 'Theory', 'Rule_Learning', 'Case_Based', 'Reinforcement_Learning', 'Reinforcement_Learning', 'Reinforcement_Learning', 'Neural_Networks', 'Reinforcement_Learning', 'Theory', 'Reinforcement_Learning', 'Reinforcement_Learning', 'Reinforcement_Learning', 'Theory', 'Theory', 'Rule_Learning', 'Rule_Learning', 'Rule_Learning', 'Rule_Learning', 'Rule_Learning', 'Rule_Learning', 'Rule_Learning', 'Rule_Learning', 'Theory', 'Theory', 'Theory', 'Theory', 'Neural_Networks', 'Theory', 'Probabilistic_Methods', 'Theory', 'Theory', 'Theory', 'Theory', 'Theory', 'Theory', 'Theory', 'Theory', 'Genetic_Algorithms', 'Case_Based', 'Theory', 'Case_Based', 'Case_Based', 'Case_Based', 'Case_Based', 'Case_Based', 'Case_Based', 'Case_Based', 'Probabilistic_Methods', 'Probabilistic_Methods', 'Probabilistic_Methods', 'Probabilistic_Methods', 'Probabilistic_Methods', 'Theory', 'Neural_Networks', 'Neural_Networks', 'Neural_Networks', 'Neural_Networks', 'Neural_Networks', 'Neural_Networks', 'Neural_Networks', 'Neural_Networks', 'Neural_Networks', 'Neural_Networks', 'Neural_Networks', 'Case_Based', 'Case_Based', 'Case_Based', 'Case_Based', 'Theory', 'Theory', 'Theory', 'Genetic_Algorithms', 'Theory', 'Theory', 'Theory', 'Theory', 'Neural_Networks', 'Neural_Networks', 'Neural_Networks', 'Neural_Networks', 'Neural_Networks', 'Reinforcement_Learning', 'Reinforcement_Learning', 'Neural_Networks', 'Reinforcement_Learning', 'Reinforcement_Learning', 'Reinforcement_Learning', 'Reinforcement_Learning', 'Genetic_Algorithms', 'Reinforcement_Learning', 'Reinforcement_Learning', 'Reinforcement_Learning', 'Reinforcement_Learning', 'Neural_Networks', 'Reinforcement_Learning', 'Neural_Networks', 'Reinforcement_Learning', 'Reinforcement_Learning', 'Reinforcement_Learning', 'Reinforcement_Learning', 'Case_Based', 'Reinforcement_Learning', 'Reinforcement_Learning', 'Reinforcement_Learning', 'Neural_Networks', 'Genetic_Algorithms', 'Reinforcement_Learning', 'Reinforcement_Learning', 'Reinforcement_Learning', 'Reinforcement_Learning', 'Reinforcement_Learning', 'Reinforcement_Learning', 'Reinforcement_Learning', 'Reinforcement_Learning', 'Reinforcement_Learning', 'Reinforcement_Learning', 'Reinforcement_Learning', 'Reinforcement_Learning', 'Reinforcement_Learning', 'Reinforcement_Learning', 'Reinforcement_Learning', 'Reinforcement_Learning', 'Reinforcement_Learning', 'Reinforcement_Learning', 'Theory', 'Reinforcement_Learning', 'Neural_Networks', 'Reinforcement_Learning', 'Reinforcement_Learning', 'Reinforcement_Learning', 'Neural_Networks', 'Reinforcement_Learning', 'Reinforcement_Learning', 'Case_Based', 'Reinforcement_Learning', 'Reinforcement_Learning', 'Reinforcement_Learning', 'Reinforcement_Learning', 'Reinforcement_Learning', 'Theory', 'Theory', 'Probabilistic_Methods', 'Theory', 'Theory', 'Theory', 'Theory', 'Case_Based', 'Case_Based', 'Case_Based', 'Case_Based', 'Case_Based', 'Case_Based', 'Case_Based', 'Case_Based', 'Case_Based', 'Case_Based', 'Case_Based', 'Theory', 'Case_Based', 'Neural_Networks', 'Case_Based', 'Case_Based', 'Neural_Networks', 'Reinforcement_Learning', 'Reinforcement_Learning', 'Reinforcement_Learning', 'Reinforcement_Learning', 'Reinforcement_Learning', 'Theory', 'Neural_Networks', 'Rule_Learning', 'Rule_Learning', 'Rule_Learning', 'Theory', 'Case_Based', 'Theory', 'Theory', 'Rule_Learning', 'Rule_Learning', 'Genetic_Algorithms', 'Case_Based', 'Case_Based', 'Neural_Networks', 'Neural_Networks', 'Neural_Networks', 'Neural_Networks', 'Theory', 'Neural_Networks', 'Neural_Networks', 'Neural_Networks', 'Neural_Networks', 'Probabilistic_Methods', 'Probabilistic_Methods', 'Probabilistic_Methods', 'Neural_Networks', 'Probabilistic_Methods', 'Probabilistic_Methods', 'Probabilistic_Methods', 'Probabilistic_Methods', 'Probabilistic_Methods', 'Probabilistic_Methods', 'Probabilistic_Methods', 'Probabilistic_Methods', 'Probabilistic_Methods', 'Probabilistic_Methods', 'Probabilistic_Methods', 'Neural_Networks', 'Neural_Networks', 'Neural_Networks', 'Neural_Networks', 'Probabilistic_Methods', 'Neural_Networks', 'Neural_Networks', 'Neural_Networks', 'Neural_Networks', 'Neural_Networks', 'Probabilistic_Methods', 'Neural_Networks', 'Neural_Networks', 'Probabilistic_Methods', 'Probabilistic_Methods', 'Probabilistic_Methods', 'Probabilistic_Methods', 'Probabilistic_Methods', 'Rule_Learning', 'Rule_Learning', 'Rule_Learning', 'Rule_Learning', 'Theory', 'Theory', 'Rule_Learning', 'Theory', 'Theory', 'Rule_Learning', 'Rule_Learning', 'Rule_Learning', 'Rule_Learning', 'Rule_Learning', 'Theory', 'Theory', 'Neural_Networks', 'Neural_Networks', 'Reinforcement_Learning', 'Neural_Networks', 'Theory', 'Theory', 'Neural_Networks', 'Neural_Networks', 'Neural_Networks', 'Neural_Networks', 'Neural_Networks', 'Reinforcement_Learning', 'Reinforcement_Learning', 'Reinforcement_Learning', 'Reinforcement_Learning', 'Neural_Networks', 'Neural_Networks', 'Neural_Networks', 'Neural_Networks', 'Neural_Networks', 'Neural_Networks', 'Neural_Networks', 'Neural_Networks', 'Neural_Networks', 'Neural_Networks', 'Case_Based', 'Genetic_Algorithms', 'Theory', 'Theory', 'Theory', 'Rule_Learning', 'Theory', 'Rule_Learning', 'Neural_Networks', 'Theory', 'Probabilistic_Methods', 'Rule_Learning', 'Rule_Learning', 'Rule_Learning', 'Neural_Networks', 'Theory', 'Rule_Learning', 'Rule_Learning', 'Case_Based', 'Theory', 'Neural_Networks', 'Neural_Networks', 'Neural_Networks', 'Rule_Learning', 'Rule_Learning', 'Rule_Learning', 'Rule_Learning', 'Rule_Learning', 'Rule_Learning', 'Rule_Learning', 'Rule_Learning', 'Rule_Learning', 'Neural_Networks', 'Neural_Networks', 'Neural_Networks', 'Neural_Networks', 'Rule_Learning', 'Theory', 'Rule_Learning', 'Theory', 'Case_Based', 'Probabilistic_Methods', 'Probabilistic_Methods', 'Rule_Learning', 'Case_Based', 'Theory', 'Case_Based', 'Case_Based', 'Genetic_Algorithms', 'Genetic_Algorithms', 'Genetic_Algorithms', 'Genetic_Algorithms', 'Reinforcement_Learning', 'Genetic_Algorithms', 'Reinforcement_Learning', 'Genetic_Algorithms', 'Genetic_Algorithms', 'Genetic_Algorithms', 'Genetic_Algorithms', 'Genetic_Algorithms', 'Genetic_Algorithms', 'Reinforcement_Learning', 'Theory', 'Theory', 'Theory', 'Theory', 'Rule_Learning', 'Rule_Learning', 'Rule_Learning', 'Probabilistic_Methods', 'Probabilistic_Methods', 'Probabilistic_Methods', 'Genetic_Algorithms', 'Neural_Networks', 'Neural_Networks', 'Neural_Networks', 'Theory', 'Theory', 'Theory', 'Probabilistic_Methods', 'Theory', 'Case_Based', 'Neural_Networks', 'Case_Based', 'Theory', 'Theory', 'Theory', 'Theory', 'Theory', 'Theory', 'Theory', 'Theory', 'Theory', 'Theory', 'Theory', 'Case_Based', 'Case_Based', 'Case_Based', 'Case_Based', 'Case_Based', 'Case_Based', 'Case_Based', 'Case_Based', 'Case_Based', 'Case_Based', 'Case_Based', 'Case_Based', 'Neural_Networks', 'Neural_Networks', 'Theory', 'Neural_Networks', 'Neural_Networks', 'Neural_Networks', 'Neural_Networks', 'Neural_Networks', 'Neural_Networks', 'Neural_Networks', 'Neural_Networks', 'Case_Based', 'Neural_Networks', 'Reinforcement_Learning', 'Case_Based', 'Case_Based', 'Theory', 'Case_Based', 'Rule_Learning', 'Neural_Networks', 'Neural_Networks', 'Rule_Learning', 'Rule_Learning', 'Rule_Learning', 'Rule_Learning', 'Rule_Learning', 'Theory', 'Theory', 'Rule_Learning', 'Theory', 'Rule_Learning', 'Case_Based', 'Theory', 'Theory', 'Theory', 'Theory', 'Theory', 'Theory', 'Theory', 'Theory', 'Theory', 'Theory', 'Theory', 'Theory', 'Theory', 'Theory', 'Theory', 'Theory', 'Theory', 'Theory', 'Theory', 'Theory', 'Theory', 'Theory', 'Probabilistic_Methods', 'Theory', 'Theory', 'Theory', 'Theory', 'Theory', 'Theory', 'Theory', 'Theory', 'Theory', 'Theory', 'Theory', 'Theory', 'Theory', 'Neural_Networks', 'Neural_Networks', 'Neural_Networks', 'Neural_Networks', 'Neural_Networks', 'Neural_Networks', 'Neural_Networks', 'Neural_Networks', 'Neural_Networks', 'Neural_Networks', 'Neural_Networks', 'Theory', 'Theory', 'Theory', 'Theory', 'Theory', 'Neural_Networks', 'Reinforcement_Learning', 'Genetic_Algorithms', 'Genetic_Algorithms', 'Genetic_Algorithms', 'Genetic_Algorithms', 'Genetic_Algorithms', 'Genetic_Algorithms', 'Genetic_Algorithms', 'Genetic_Algorithms', 'Genetic_Algorithms', 'Case_Based', 'Genetic_Algorithms', 'Neural_Networks', 'Neural_Networks', 'Rule_Learning', 'Rule_Learning', 'Reinforcement_Learning', 'Reinforcement_Learning', 'Reinforcement_Learning', 'Reinforcement_Learning', 'Neural_Networks', 'Neural_Networks', 'Reinforcement_Learning', 'Theory', 'Neural_Networks', 'Reinforcement_Learning', 'Probabilistic_Methods', 'Neural_Networks', 'Neural_Networks', 'Neural_Networks', 'Neural_Networks', 'Neural_Networks', 'Neural_Networks', 'Neural_Networks', 'Neural_Networks', 'Neural_Networks', 'Rule_Learning', 'Rule_Learning', 'Reinforcement_Learning', 'Reinforcement_Learning', 'Reinforcement_Learning', 'Theory', 'Theory', 'Genetic_Algorithms', 'Genetic_Algorithms', 'Genetic_Algorithms', 'Genetic_Algorithms', 'Genetic_Algorithms', 'Neural_Networks', 'Neural_Networks', 'Probabilistic_Methods', 'Probabilistic_Methods', 'Probabilistic_Methods', 'Probabilistic_Methods', 'Probabilistic_Methods', 'Probabilistic_Methods', 'Probabilistic_Methods', 'Probabilistic_Methods', 'Probabilistic_Methods', 'Probabilistic_Methods', 'Probabilistic_Methods', 'Case_Based', 'Case_Based', 'Case_Based', 'Case_Based', 'Rule_Learning', 'Case_Based', 'Case_Based', 'Rule_Learning', 'Case_Based', 'Neural_Networks', 'Theory', 'Theory', 'Neural_Networks', 'Neural_Networks', 'Neural_Networks', 'Theory', 'Theory', 'Theory', 'Theory', 'Theory', 'Theory', 'Theory', 'Genetic_Algorithms', 'Case_Based', 'Case_Based', 'Case_Based', 'Case_Based', 'Case_Based', 'Probabilistic_Methods', 'Probabilistic_Methods', 'Probabilistic_Methods', 'Probabilistic_Methods', 'Probabilistic_Methods', 'Probabilistic_Methods', 'Probabilistic_Methods', 'Probabilistic_Methods', 'Probabilistic_Methods', 'Probabilistic_Methods', 'Neural_Networks', 'Neural_Networks', 'Neural_Networks', 'Neural_Networks', 'Neural_Networks', 'Neural_Networks', 'Neural_Networks', 'Neural_Networks', 'Neural_Networks', 'Theory', 'Neural_Networks', 'Neural_Networks', 'Neural_Networks', 'Neural_Networks', 'Neural_Networks', 'Neural_Networks', 'Probabilistic_Methods', 'Probabilistic_Methods', 'Probabilistic_Methods', 'Probabilistic_Methods', 'Probabilistic_Methods', 'Probabilistic_Methods', 'Probabilistic_Methods', 'Probabilistic_Methods', 'Probabilistic_Methods', 'Probabilistic_Methods', 'Probabilistic_Methods', 'Probabilistic_Methods', 'Probabilistic_Methods', 'Probabilistic_Methods', 'Probabilistic_Methods', 'Reinforcement_Learning', 'Probabilistic_Methods', 'Reinforcement_Learning', 'Reinforcement_Learning', 'Probabilistic_Methods', 'Probabilistic_Methods', 'Neural_Networks', 'Genetic_Algorithms', 'Reinforcement_Learning', 'Genetic_Algorithms', 'Genetic_Algorithms', 'Reinforcement_Learning', 'Reinforcement_Learning', 'Case_Based', 'Reinforcement_Learning', 'Neural_Networks', 'Neural_Networks', 'Neural_Networks', 'Neural_Networks', 'Neural_Networks', 'Rule_Learning', 'Probabilistic_Methods', 'Probabilistic_Methods', 'Probabilistic_Methods', 'Probabilistic_Methods', 'Probabilistic_Methods', 'Probabilistic_Methods', 'Probabilistic_Methods', 'Probabilistic_Methods', 'Probabilistic_Methods', 'Probabilistic_Methods', 'Probabilistic_Methods', 'Probabilistic_Methods', 'Probabilistic_Methods', 'Probabilistic_Methods', 'Theory', 'Probabilistic_Methods', 'Probabilistic_Methods', 'Theory', 'Probabilistic_Methods', 'Probabilistic_Methods', 'Probabilistic_Methods', 'Case_Based', 'Reinforcement_Learning', 'Reinforcement_Learning', 'Reinforcement_Learning', 'Reinforcement_Learning', 'Genetic_Algorithms', 'Genetic_Algorithms', 'Genetic_Algorithms', 'Theory', 'Theory', 'Theory', 'Theory', 'Theory', 'Neural_Networks', 'Neural_Networks', 'Neural_Networks', 'Neural_Networks', 'Genetic_Algorithms', 'Neural_Networks', 'Neural_Networks', 'Neural_Networks', 'Neural_Networks', 'Neural_Networks', 'Neural_Networks', 'Neural_Networks', 'Theory', 'Case_Based', 'Case_Based', 'Case_Based', 'Case_Based', 'Case_Based', 'Case_Based', 'Case_Based', 'Case_Based', 'Case_Based', 'Case_Based', 'Case_Based', 'Case_Based', 'Case_Based', 'Case_Based', 'Case_Based', 'Case_Based', 'Case_Based', 'Case_Based', 'Case_Based', 'Theory', 'Case_Based', 'Case_Based', 'Case_Based', 'Case_Based', 'Case_Based', 'Neural_Networks', 'Neural_Networks', 'Theory', 'Neural_Networks', 'Theory', 'Theory', 'Theory', 'Rule_Learning', 'Rule_Learning', 'Probabilistic_Methods', 'Probabilistic_Methods', 'Probabilistic_Methods', 'Probabilistic_Methods', 'Probabilistic_Methods', 'Probabilistic_Methods', 'Theory', 'Genetic_Algorithms', 'Genetic_Algorithms', 'Genetic_Algorithms', 'Genetic_Algorithms', 'Genetic_Algorithms', 'Genetic_Algorithms', 'Genetic_Algorithms', 'Genetic_Algorithms', 'Genetic_Algorithms', 'Case_Based', 'Case_Based', 'Case_Based', 'Theory', 'Theory', 'Case_Based', 'Case_Based', 'Theory', 'Neural_Networks', 'Neural_Networks', 'Neural_Networks', 'Case_Based', 'Case_Based', 'Case_Based', 'Case_Based', 'Theory', 'Case_Based', 'Case_Based', 'Probabilistic_Methods', 'Probabilistic_Methods', 'Probabilistic_Methods', 'Probabilistic_Methods', 'Probabilistic_Methods', 'Probabilistic_Methods', 'Probabilistic_Methods', 'Probabilistic_Methods', 'Theory', 'Probabilistic_Methods', 'Probabilistic_Methods', 'Neural_Networks', 'Rule_Learning', 'Theory', 'Theory', 'Probabilistic_Methods', 'Theory', 'Probabilistic_Methods', 'Neural_Networks', 'Neural_Networks', 'Neural_Networks', 'Probabilistic_Methods', 'Probabilistic_Methods', 'Probabilistic_Methods', 'Reinforcement_Learning', 'Theory', 'Neural_Networks', 'Neural_Networks', 'Neural_Networks', 'Neural_Networks', 'Neural_Networks', 'Neural_Networks', 'Neural_Networks', 'Neural_Networks', 'Neural_Networks', 'Theory', 'Neural_Networks', 'Neural_Networks', 'Probabilistic_Methods', 'Probabilistic_Methods', 'Neural_Networks', 'Neural_Networks', 'Neural_Networks', 'Neural_Networks', 'Probabilistic_Methods', 'Neural_Networks', 'Neural_Networks', 'Genetic_Algorithms', 'Neural_Networks', 'Neural_Networks', 'Probabilistic_Methods', 'Theory', 'Case_Based', 'Neural_Networks', 'Neural_Networks', 'Neural_Networks', 'Neural_Networks', 'Theory', 'Theory', 'Theory', 'Theory', 'Theory', 'Theory', 'Theory', 'Neural_Networks', 'Genetic_Algorithms', 'Neural_Networks', 'Neural_Networks', 'Neural_Networks', 'Neural_Networks', 'Rule_Learning', 'Neural_Networks', 'Neural_Networks', 'Neural_Networks', 'Neural_Networks', 'Reinforcement_Learning', 'Reinforcement_Learning', 'Neural_Networks', 'Neural_Networks', 'Theory', 'Theory', 'Reinforcement_Learning', 'Probabilistic_Methods', 'Reinforcement_Learning', 'Case_Based', 'Case_Based', 'Reinforcement_Learning', 'Neural_Networks', 'Genetic_Algorithms', 'Genetic_Algorithms', 'Reinforcement_Learning', 'Reinforcement_Learning', 'Reinforcement_Learning', 'Reinforcement_Learning', 'Reinforcement_Learning', 'Reinforcement_Learning', 'Reinforcement_Learning', 'Reinforcement_Learning', 'Reinforcement_Learning', 'Reinforcement_Learning', 'Reinforcement_Learning', 'Theory', 'Neural_Networks', 'Reinforcement_Learning', 'Reinforcement_Learning', 'Theory', 'Theory', 'Theory', 'Genetic_Algorithms', 'Genetic_Algorithms', 'Probabilistic_Methods', 'Probabilistic_Methods', 'Probabilistic_Methods', 'Case_Based', 'Neural_Networks', 'Neural_Networks', 'Neural_Networks', 'Neural_Networks', 'Neural_Networks', 'Neural_Networks', 'Neural_Networks', 'Probabilistic_Methods', 'Probabilistic_Methods', 'Probabilistic_Methods', 'Neural_Networks', 'Case_Based', 'Neural_Networks', 'Theory', 'Theory', 'Neural_Networks', 'Neural_Networks', 'Neural_Networks', 'Neural_Networks', 'Neural_Networks', 'Theory', 'Neural_Networks', 'Neural_Networks', 'Neural_Networks', 'Neural_Networks', 'Neural_Networks', 'Neural_Networks', 'Probabilistic_Methods', 'Probabilistic_Methods', 'Probabilistic_Methods', 'Probabilistic_Methods', 'Probabilistic_Methods', 'Probabilistic_Methods', 'Probabilistic_Methods', 'Probabilistic_Methods', 'Probabilistic_Methods', 'Probabilistic_Methods', 'Probabilistic_Methods', 'Neural_Networks', 'Neural_Networks', 'Probabilistic_Methods', 'Theory', 'Probabilistic_Methods', 'Neural_Networks', 'Neural_Networks', 'Neural_Networks', 'Neural_Networks', 'Neural_Networks', 'Genetic_Algorithms', 'Neural_Networks', 'Theory', 'Theory', 'Theory', 'Neural_Networks', 'Probabilistic_Methods', 'Probabilistic_Methods', 'Case_Based', 'Theory', 'Theory', 'Neural_Networks', 'Neural_Networks', 'Neural_Networks', 'Neural_Networks', 'Neural_Networks', 'Neural_Networks', 'Neural_Networks', 'Genetic_Algorithms', 'Genetic_Algorithms', 'Neural_Networks', 'Neural_Networks', 'Neural_Networks', 'Neural_Networks', 'Neural_Networks', 'Neural_Networks', 'Neural_Networks', 'Neural_Networks', 'Neural_Networks', 'Neural_Networks', 'Neural_Networks', 'Neural_Networks', 'Neural_Networks', 'Genetic_Algorithms', 'Genetic_Algorithms', 'Neural_Networks', 'Neural_Networks', 'Neural_Networks', 'Case_Based', 'Case_Based', 'Probabilistic_Methods', 'Probabilistic_Methods', 'Probabilistic_Methods', 'Probabilistic_Methods', 'Genetic_Algorithms', 'Neural_Networks', 'Neural_Networks', 'Neural_Networks', 'Reinforcement_Learning', 'Reinforcement_Learning', 'Theory', 'Probabilistic_Methods', 'Probabilistic_Methods', 'Probabilistic_Methods', 'Neural_Networks', 'Probabilistic_Methods', 'Probabilistic_Methods', 'Theory', 'Theory', 'Probabilistic_Methods', 'Probabilistic_Methods', 'Probabilistic_Methods', 'Probabilistic_Methods', 'Probabilistic_Methods', 'Probabilistic_Methods', 'Probabilistic_Methods', 'Case_Based', 'Theory', 'Theory', 'Probabilistic_Methods', 'Genetic_Algorithms', 'Genetic_Algorithms', 'Genetic_Algorithms', 'Genetic_Algorithms', 'Genetic_Algorithms', 'Genetic_Algorithms', 'Genetic_Algorithms', 'Genetic_Algorithms', 'Genetic_Algorithms', 'Probabilistic_Methods', 'Probabilistic_Methods', 'Probabilistic_Methods', 'Probabilistic_Methods', 'Probabilistic_Methods', 'Probabilistic_Methods', 'Neural_Networks', 'Neural_Networks', 'Case_Based', 'Rule_Learning', 'Rule_Learning', 'Rule_Learning', 'Rule_Learning', 'Rule_Learning', 'Rule_Learning', 'Rule_Learning', 'Rule_Learning', 'Rule_Learning', 'Neural_Networks', 'Neural_Networks', 'Probabilistic_Methods', 'Probabilistic_Methods', 'Probabilistic_Methods', 'Probabilistic_Methods', 'Probabilistic_Methods', 'Probabilistic_Methods', 'Probabilistic_Methods', 'Probabilistic_Methods', 'Probabilistic_Methods', 'Probabilistic_Methods', 'Neural_Networks', 'Reinforcement_Learning', 'Neural_Networks', 'Theory', 'Probabilistic_Methods', 'Neural_Networks', 'Neural_Networks', 'Case_Based', 'Case_Based', 'Theory', 'Genetic_Algorithms', 'Genetic_Algorithms', 'Genetic_Algorithms', 'Neural_Networks', 'Neural_Networks', 'Neural_Networks', 'Theory', 'Theory', 'Genetic_Algorithms', 'Neural_Networks', 'Neural_Networks', 'Neural_Networks', 'Neural_Networks', 'Neural_Networks', 'Rule_Learning', 'Rule_Learning', 'Probabilistic_Methods', 'Probabilistic_Methods', 'Genetic_Algorithms', 'Neural_Networks', 'Neural_Networks', 'Genetic_Algorithms', 'Probabilistic_Methods', 'Probabilistic_Methods', 'Theory', 'Neural_Networks', 'Theory', 'Theory', 'Neural_Networks', 'Neural_Networks', 'Reinforcement_Learning', 'Neural_Networks', 'Genetic_Algorithms', 'Genetic_Algorithms', 'Rule_Learning', 'Theory', 'Theory', 'Rule_Learning', 'Theory', 'Theory', 'Theory', 'Theory', 'Neural_Networks', 'Neural_Networks', 'Neural_Networks', 'Case_Based', 'Case_Based', 'Reinforcement_Learning', 'Probabilistic_Methods', 'Neural_Networks', 'Reinforcement_Learning', 'Reinforcement_Learning', 'Genetic_Algorithms', 'Genetic_Algorithms', 'Genetic_Algorithms', 'Genetic_Algorithms', 'Neural_Networks', 'Neural_Networks', 'Probabilistic_Methods', 'Probabilistic_Methods', 'Probabilistic_Methods', 'Neural_Networks', 'Neural_Networks', 'Neural_Networks', 'Genetic_Algorithms', 'Genetic_Algorithms', 'Neural_Networks', 'Case_Based', 'Case_Based', 'Probabilistic_Methods', 'Probabilistic_Methods', 'Probabilistic_Methods', 'Probabilistic_Methods', 'Neural_Networks', 'Neural_Networks', 'Neural_Networks', 'Neural_Networks', 'Neural_Networks', 'Neural_Networks', 'Neural_Networks', 'Probabilistic_Methods', 'Theory', 'Genetic_Algorithms', 'Genetic_Algorithms', 'Genetic_Algorithms', 'Genetic_Algorithms', 'Genetic_Algorithms', 'Genetic_Algorithms', 'Genetic_Algorithms', 'Genetic_Algorithms', 'Genetic_Algorithms', 'Genetic_Algorithms', 'Genetic_Algorithms', 'Genetic_Algorithms', 'Genetic_Algorithms', 'Genetic_Algorithms', 'Genetic_Algorithms', 'Genetic_Algorithms', 'Genetic_Algorithms', 'Genetic_Algorithms', 'Genetic_Algorithms', 'Theory', 'Case_Based', 'Case_Based', 'Genetic_Algorithms', 'Case_Based', 'Case_Based', 'Reinforcement_Learning', 'Genetic_Algorithms', 'Genetic_Algorithms', 'Theory', 'Rule_Learning', 'Rule_Learning', 'Rule_Learning', 'Neural_Networks', 'Case_Based', 'Genetic_Algorithms', 'Genetic_Algorithms', 'Genetic_Algorithms', 'Neural_Networks', 'Neural_Networks', 'Genetic_Algorithms', 'Genetic_Algorithms', 'Genetic_Algorithms', 'Theory', 'Genetic_Algorithms', 'Neural_Networks', 'Neural_Networks', 'Genetic_Algorithms', 'Genetic_Algorithms', 'Rule_Learning', 'Rule_Learning', 'Rule_Learning', 'Genetic_Algorithms', 'Neural_Networks', 'Genetic_Algorithms', 'Genetic_Algorithms', 'Genetic_Algorithms', 'Genetic_Algorithms', 'Neural_Networks', 'Case_Based', 'Probabilistic_Methods', 'Rule_Learning', 'Rule_Learning', 'Neural_Networks', 'Neural_Networks', 'Rule_Learning', 'Case_Based', 'Rule_Learning', 'Case_Based', 'Theory', 'Probabilistic_Methods', 'Probabilistic_Methods', 'Probabilistic_Methods', 'Probabilistic_Methods', 'Probabilistic_Methods', 'Probabilistic_Methods', 'Probabilistic_Methods', 'Probabilistic_Methods', 'Theory', 'Genetic_Algorithms', 'Genetic_Algorithms', 'Rule_Learning', 'Rule_Learning', 'Theory', 'Neural_Networks', 'Theory', 'Theory', 'Theory', 'Theory', 'Neural_Networks', 'Neural_Networks', 'Genetic_Algorithms', 'Genetic_Algorithms', 'Reinforcement_Learning', 'Neural_Networks', 'Theory', 'Probabilistic_Methods', 'Probabilistic_Methods', 'Probabilistic_Methods', 'Probabilistic_Methods', 'Case_Based', 'Case_Based', 'Neural_Networks', 'Neural_Networks', 'Neural_Networks', 'Neural_Networks', 'Case_Based', 'Reinforcement_Learning', 'Genetic_Algorithms', 'Genetic_Algorithms', 'Neural_Networks', 'Probabilistic_Methods', 'Neural_Networks', 'Neural_Networks', 'Neural_Networks', 'Reinforcement_Learning', 'Rule_Learning', 'Rule_Learning', 'Rule_Learning', 'Probabilistic_Methods', 'Probabilistic_Methods', 'Probabilistic_Methods', 'Probabilistic_Methods', 'Probabilistic_Methods', 'Case_Based', 'Case_Based', 'Neural_Networks', 'Neural_Networks', 'Probabilistic_Methods', 'Probabilistic_Methods', 'Neural_Networks', 'Probabilistic_Methods', 'Probabilistic_Methods', 'Probabilistic_Methods', 'Neural_Networks', 'Case_Based', 'Case_Based', 'Case_Based', 'Neural_Networks', 'Neural_Networks', 'Neural_Networks', 'Reinforcement_Learning', 'Reinforcement_Learning', 'Rule_Learning', 'Rule_Learning', 'Neural_Networks', 'Neural_Networks', 'Theory', 'Theory', 'Probabilistic_Methods', 'Probabilistic_Methods', 'Probabilistic_Methods', 'Probabilistic_Methods', 'Neural_Networks', 'Genetic_Algorithms', 'Neural_Networks', 'Neural_Networks', 'Neural_Networks', 'Probabilistic_Methods', 'Probabilistic_Methods', 'Probabilistic_Methods', 'Neural_Networks', 'Neural_Networks', 'Case_Based', 'Case_Based', 'Genetic_Algorithms', 'Genetic_Algorithms', 'Genetic_Algorithms', 'Genetic_Algorithms', 'Genetic_Algorithms', 'Neural_Networks', 'Neural_Networks', 'Theory', 'Genetic_Algorithms', 'Theory', 'Neural_Networks', 'Neural_Networks', 'Genetic_Algorithms', 'Neural_Networks', 'Theory', 'Reinforcement_Learning', 'Neural_Networks', 'Probabilistic_Methods', 'Case_Based', 'Case_Based', 'Probabilistic_Methods', 'Neural_Networks', 'Theory', 'Theory', 'Probabilistic_Methods', 'Probabilistic_Methods', 'Probabilistic_Methods', 'Theory', 'Neural_Networks', 'Neural_Networks', 'Neural_Networks', 'Neural_Networks', 'Neural_Networks', 'Theory', 'Neural_Networks', 'Genetic_Algorithms', 'Genetic_Algorithms', 'Genetic_Algorithms', 'Case_Based', 'Reinforcement_Learning', 'Reinforcement_Learning', 'Reinforcement_Learning', 'Case_Based', 'Case_Based', 'Genetic_Algorithms', 'Genetic_Algorithms', 'Genetic_Algorithms', 'Neural_Networks', 'Neural_Networks', 'Case_Based', 'Case_Based', 'Theory', 'Genetic_Algorithms', 'Neural_Networks', 'Neural_Networks', 'Genetic_Algorithms', 'Genetic_Algorithms', 'Case_Based', 'Case_Based', 'Probabilistic_Methods', 'Probabilistic_Methods', 'Probabilistic_Methods', 'Neural_Networks', 'Neural_Networks', 'Probabilistic_Methods', 'Neural_Networks', 'Genetic_Algorithms', 'Genetic_Algorithms', 'Probabilistic_Methods', 'Probabilistic_Methods', 'Probabilistic_Methods', 'Probabilistic_Methods', 'Probabilistic_Methods', 'Genetic_Algorithms', 'Case_Based', 'Probabilistic_Methods', 'Probabilistic_Methods', 'Case_Based', 'Case_Based', 'Neural_Networks', 'Neural_Networks', 'Neural_Networks', 'Neural_Networks', 'Neural_Networks', 'Neural_Networks', 'Theory', 'Genetic_Algorithms', 'Case_Based', 'Case_Based', 'Neural_Networks', 'Neural_Networks', 'Reinforcement_Learning', 'Neural_Networks', 'Theory', 'Genetic_Algorithms', 'Neural_Networks', 'Neural_Networks', 'Neural_Networks', 'Neural_Networks', 'Neural_Networks', 'Neural_Networks', 'Neural_Networks', 'Probabilistic_Methods', 'Probabilistic_Methods', 'Probabilistic_Methods', 'Probabilistic_Methods', 'Case_Based', 'Case_Based', 'Case_Based', 'Probabilistic_Methods', 'Probabilistic_Methods', 'Probabilistic_Methods', 'Probabilistic_Methods', 'Neural_Networks', 'Neural_Networks', 'Neural_Networks', 'Theory', 'Theory', 'Case_Based', 'Case_Based', 'Neural_Networks', 'Neural_Networks', 'Neural_Networks', 'Neural_Networks', 'Theory', 'Neural_Networks', 'Neural_Networks', 'Theory', 'Theory', 'Reinforcement_Learning', 'Genetic_Algorithms', 'Genetic_Algorithms', 'Genetic_Algorithms', 'Genetic_Algorithms', 'Probabilistic_Methods', 'Probabilistic_Methods', 'Probabilistic_Methods', 'Neural_Networks', 'Neural_Networks', 'Case_Based', 'Theory', 'Rule_Learning', 'Rule_Learning', 'Theory', 'Probabilistic_Methods', 'Probabilistic_Methods', 'Neural_Networks', 'Neural_Networks', 'Theory', 'Neural_Networks', 'Neural_Networks', 'Genetic_Algorithms', 'Genetic_Algorithms', 'Neural_Networks', 'Case_Based', 'Probabilistic_Methods', 'Genetic_Algorithms', 'Neural_Networks', 'Genetic_Algorithms', 'Genetic_Algorithms', 'Genetic_Algorithms', 'Rule_Learning', 'Rule_Learning', 'Rule_Learning', 'Reinforcement_Learning', 'Neural_Networks', 'Neural_Networks', 'Genetic_Algorithms', 'Genetic_Algorithms', 'Theory', 'Theory', 'Neural_Networks', 'Theory', 'Genetic_Algorithms', 'Probabilistic_Methods', 'Probabilistic_Methods', 'Probabilistic_Methods', 'Probabilistic_Methods', 'Probabilistic_Methods', 'Probabilistic_Methods', 'Probabilistic_Methods', 'Probabilistic_Methods', 'Neural_Networks', 'Neural_Networks', 'Neural_Networks', 'Neural_Networks', 'Neural_Networks', 'Theory', 'Rule_Learning', 'Rule_Learning', 'Probabilistic_Methods', 'Neural_Networks', 'Neural_Networks', 'Neural_Networks', 'Neural_Networks', 'Neural_Networks', 'Neural_Networks', 'Neural_Networks', 'Rule_Learning', 'Rule_Learning', 'Neural_Networks', 'Neural_Networks', 'Neural_Networks', 'Neural_Networks', 'Neural_Networks', 'Neural_Networks', 'Neural_Networks', 'Neural_Networks', 'Theory', 'Case_Based', 'Theory', 'Reinforcement_Learning', 'Neural_Networks', 'Case_Based', 'Neural_Networks', 'Theory', 'Theory', 'Genetic_Algorithms', 'Neural_Networks', 'Neural_Networks', 'Theory', 'Case_Based', 'Genetic_Algorithms', 'Genetic_Algorithms', 'Genetic_Algorithms', 'Neural_Networks', 'Neural_Networks', 'Neural_Networks', 'Neural_Networks', 'Probabilistic_Methods', 'Probabilistic_Methods', 'Neural_Networks', 'Reinforcement_Learning', 'Genetic_Algorithms', 'Genetic_Algorithms', 'Case_Based', 'Case_Based', 'Probabilistic_Methods', 'Probabilistic_Methods', 'Probabilistic_Methods', 'Probabilistic_Methods', 'Probabilistic_Methods', 'Probabilistic_Methods', 'Neural_Networks', 'Neural_Networks', 'Neural_Networks', 'Rule_Learning', 'Rule_Learning', 'Rule_Learning', 'Neural_Networks', 'Neural_Networks', 'Neural_Networks', 'Neural_Networks', 'Neural_Networks', 'Neural_Networks', 'Reinforcement_Learning', 'Genetic_Algorithms', 'Case_Based', 'Neural_Networks', 'Neural_Networks', 'Probabilistic_Methods', 'Probabilistic_Methods', 'Probabilistic_Methods', 'Neural_Networks', 'Neural_Networks', 'Neural_Networks', 'Neural_Networks', 'Neural_Networks', 'Neural_Networks', 'Neural_Networks', 'Neural_Networks', 'Genetic_Algorithms', 'Genetic_Algorithms', 'Genetic_Algorithms', 'Probabilistic_Methods', 'Probabilistic_Methods', 'Probabilistic_Methods', 'Neural_Networks', 'Rule_Learning', 'Theory', 'Theory', 'Reinforcement_Learning', 'Probabilistic_Methods', 'Probabilistic_Methods', 'Neural_Networks', 'Case_Based', 'Genetic_Algorithms', 'Neural_Networks', 'Neural_Networks', 'Genetic_Algorithms', 'Neural_Networks', 'Neural_Networks', 'Neural_Networks', 'Neural_Networks', 'Neural_Networks', 'Neural_Networks', 'Neural_Networks', 'Rule_Learning', 'Neural_Networks', 'Neural_Networks', 'Neural_Networks', 'Neural_Networks', 'Neural_Networks', 'Rule_Learning', 'Rule_Learning', 'Rule_Learning', 'Rule_Learning', 'Theory', 'Neural_Networks', 'Neural_Networks', 'Reinforcement_Learning', 'Genetic_Algorithms', 'Genetic_Algorithms', 'Case_Based', 'Probabilistic_Methods', 'Neural_Networks', 'Neural_Networks', 'Neural_Networks', 'Case_Based', 'Neural_Networks', 'Genetic_Algorithms', 'Genetic_Algorithms', 'Genetic_Algorithms', 'Genetic_Algorithms', 'Rule_Learning', 'Neural_Networks', 'Neural_Networks', 'Neural_Networks', 'Neural_Networks', 'Neural_Networks', 'Theory', 'Neural_Networks', 'Neural_Networks', 'Neural_Networks', 'Neural_Networks', 'Genetic_Algorithms', 'Theory', 'Genetic_Algorithms', 'Neural_Networks', 'Genetic_Algorithms', 'Genetic_Algorithms', 'Probabilistic_Methods', 'Probabilistic_Methods', 'Probabilistic_Methods', 'Genetic_Algorithms', 'Genetic_Algorithms', 'Genetic_Algorithms', 'Genetic_Algorithms', 'Case_Based', 'Probabilistic_Methods', 'Rule_Learning', 'Genetic_Algorithms', 'Genetic_Algorithms', 'Reinforcement_Learning', 'Neural_Networks', 'Neural_Networks', 'Case_Based', 'Rule_Learning', 'Probabilistic_Methods', 'Probabilistic_Methods', 'Theory', 'Neural_Networks', 'Neural_Networks', 'Neural_Networks', 'Neural_Networks', 'Neural_Networks', 'Neural_Networks', 'Genetic_Algorithms', 'Probabilistic_Methods', 'Case_Based', 'Case_Based', 'Case_Based', 'Neural_Networks', 'Neural_Networks', 'Neural_Networks', 'Neural_Networks', 'Neural_Networks', 'Probabilistic_Methods', 'Neural_Networks', 'Probabilistic_Methods', 'Probabilistic_Methods', 'Theory', 'Neural_Networks', 'Probabilistic_Methods', 'Neural_Networks', 'Neural_Networks', 'Neural_Networks', 'Neural_Networks', 'Neural_Networks', 'Probabilistic_Methods', 'Probabilistic_Methods', 'Rule_Learning', 'Theory', 'Theory', 'Genetic_Algorithms', 'Neural_Networks', 'Genetic_Algorithms', 'Genetic_Algorithms', 'Genetic_Algorithms', 'Genetic_Algorithms', 'Genetic_Algorithms', 'Genetic_Algorithms', 'Genetic_Algorithms', 'Probabilistic_Methods', 'Rule_Learning', 'Case_Based', 'Case_Based', 'Probabilistic_Methods', 'Probabilistic_Methods', 'Probabilistic_Methods', 'Neural_Networks', 'Probabilistic_Methods', 'Neural_Networks', 'Neural_Networks', 'Probabilistic_Methods', 'Probabilistic_Methods', 'Probabilistic_Methods', 'Neural_Networks', 'Neural_Networks', 'Probabilistic_Methods', 'Probabilistic_Methods', 'Probabilistic_Methods', 'Rule_Learning', 'Neural_Networks', 'Theory', 'Theory', 'Genetic_Algorithms', 'Genetic_Algorithms', 'Genetic_Algorithms', 'Genetic_Algorithms', 'Genetic_Algorithms', 'Neural_Networks', 'Genetic_Algorithms', 'Genetic_Algorithms', 'Genetic_Algorithms', 'Genetic_Algorithms', 'Genetic_Algorithms', 'Genetic_Algorithms', 'Genetic_Algorithms', 'Theory', 'Neural_Networks', 'Genetic_Algorithms', 'Genetic_Algorithms', 'Genetic_Algorithms', 'Genetic_Algorithms', 'Genetic_Algorithms', 'Genetic_Algorithms', 'Genetic_Algorithms', 'Genetic_Algorithms', 'Genetic_Algorithms', 'Genetic_Algorithms', 'Genetic_Algorithms', 'Genetic_Algorithms', 'Genetic_Algorithms', 'Genetic_Algorithms', 'Genetic_Algorithms', 'Genetic_Algorithms', 'Genetic_Algorithms', 'Genetic_Algorithms', 'Neural_Networks', 'Neural_Networks', 'Neural_Networks', 'Neural_Networks', 'Rule_Learning', 'Neural_Networks', 'Neural_Networks', 'Neural_Networks', 'Neural_Networks', 'Neural_Networks', 'Probabilistic_Methods', 'Probabilistic_Methods', 'Probabilistic_Methods', 'Probabilistic_Methods', 'Probabilistic_Methods', 'Probabilistic_Methods', 'Neural_Networks', 'Neural_Networks', 'Neural_Networks', 'Neural_Networks', 'Probabilistic_Methods', 'Probabilistic_Methods', 'Probabilistic_Methods', 'Neural_Networks', 'Neural_Networks', 'Neural_Networks', 'Neural_Networks', 'Probabilistic_Methods', 'Probabilistic_Methods', 'Probabilistic_Methods', 'Probabilistic_Methods', 'Probabilistic_Methods', 'Probabilistic_Methods', 'Probabilistic_Methods', 'Probabilistic_Methods', 'Probabilistic_Methods', 'Probabilistic_Methods', 'Probabilistic_Methods', 'Probabilistic_Methods', 'Probabilistic_Methods', 'Probabilistic_Methods', 'Probabilistic_Methods', 'Probabilistic_Methods', 'Probabilistic_Methods', 'Probabilistic_Methods', 'Probabilistic_Methods', 'Neural_Networks', 'Neural_Networks', 'Neural_Networks', 'Probabilistic_Methods', 'Probabilistic_Methods', 'Probabilistic_Methods', 'Probabilistic_Methods', 'Probabilistic_Methods', 'Probabilistic_Methods', 'Probabilistic_Methods', 'Probabilistic_Methods', 'Neural_Networks', 'Neural_Networks', 'Probabilistic_Methods', 'Probabilistic_Methods', 'Probabilistic_Methods', 'Probabilistic_Methods', 'Probabilistic_Methods', 'Probabilistic_Methods', 'Probabilistic_Methods', 'Probabilistic_Methods', 'Probabilistic_Methods', 'Probabilistic_Methods', 'Probabilistic_Methods', 'Probabilistic_Methods', 'Probabilistic_Methods', 'Genetic_Algorithms', 'Genetic_Algorithms', 'Genetic_Algorithms', 'Neural_Networks', 'Neural_Networks', 'Neural_Networks', 'Neural_Networks', 'Neural_Networks', 'Neural_Networks', 'Neural_Networks', 'Genetic_Algorithms', 'Rule_Learning', 'Rule_Learning', 'Genetic_Algorithms', 'Genetic_Algorithms', 'Genetic_Algorithms', 'Genetic_Algorithms', 'Case_Based', 'Neural_Networks', 'Neural_Networks', 'Neural_Networks', 'Neural_Networks', 'Neural_Networks', 'Neural_Networks', 'Probabilistic_Methods', 'Probabilistic_Methods', 'Probabilistic_Methods', 'Neural_Networks', 'Neural_Networks', 'Neural_Networks', 'Neural_Networks', 'Neural_Networks', 'Rule_Learning', 'Neural_Networks', 'Neural_Networks', 'Neural_Networks', 'Neural_Networks', 'Probabilistic_Methods', 'Probabilistic_Methods', 'Neural_Networks', 'Neural_Networks', 'Neural_Networks', 'Neural_Networks', 'Neural_Networks', 'Neural_Networks', 'Neural_Networks', 'Neural_Networks', 'Neural_Networks', 'Neural_Networks', 'Neural_Networks', 'Theory', 'Theory', 'Theory', 'Theory', 'Theory', 'Neural_Networks', 'Neural_Networks', 'Neural_Networks', 'Neural_Networks', 'Neural_Networks', 'Neural_Networks', 'Neural_Networks', 'Neural_Networks', 'Neural_Networks', 'Rule_Learning', 'Rule_Learning', 'Neural_Networks', 'Neural_Networks', 'Neural_Networks', 'Neural_Networks', 'Neural_Networks', 'Neural_Networks', 'Neural_Networks', 'Neural_Networks', 'Neural_Networks', 'Neural_Networks']\n"
     ]
    }
   ],
   "source": [
    "node_features = np.zeros((num_nodes, 1433), dtype=np.int8)\n",
    "node_category = ['' for _ in range(num_nodes)]\n",
    "with open('cora/cora.content') as feature_file:\n",
    "    for frow in feature_file:\n",
    "        row_content = frow[:-1].split('\\t')\n",
    "        node_idx = node_list[int(row_content[0])]\n",
    "        node_feat = np.array([int(val) for val in row_content[1:-1]])\n",
    "        node_cat = row_content[-1]\n",
    "        node_features[node_idx] = node_feat\n",
    "        node_category[node_idx] = node_cat\n",
    "\n",
    "print(node_features.shape)\n",
    "print(node_category)"
   ]
  },
  {
   "cell_type": "code",
   "execution_count": 19,
   "metadata": {
    "scrolled": true
   },
   "outputs": [
    {
     "name": "stdout",
     "output_type": "stream",
     "text": [
      "['Theory', 'Genetic_Algorithms', 'Probabilistic_Methods', 'Rule_Learning', 'Case_Based', 'Neural_Networks', 'Reinforcement_Learning']\n"
     ]
    }
   ],
   "source": [
    "print(list(set(node_category)))"
   ]
  },
  {
   "cell_type": "code",
   "execution_count": 20,
   "metadata": {},
   "outputs": [
    {
     "name": "stdout",
     "output_type": "stream",
     "text": [
      "[1. 1. 1. ... 1. 1. 1.]\n",
      "[[0. 1. 0. ... 0. 0. 0.]\n",
      " [0. 1. 0. ... 0. 0. 0.]\n",
      " [0. 0. 0. ... 0. 1. 0.]\n",
      " ...\n",
      " [0. 0. 0. ... 0. 1. 0.]\n",
      " [0. 0. 0. ... 0. 1. 0.]\n",
      " [0. 0. 0. ... 0. 1. 0.]]\n"
     ]
    }
   ],
   "source": [
    "fixed_cat = ['Theory', 'Genetic_Algorithms', 'Probabilistic_Methods', 'Rule_Learning', 'Case_Based', 'Neural_Networks', 'Reinforcement_Learning']\n",
    "node_category_array = np.zeros((num_nodes, 7))\n",
    "for node_idx, node_cat in enumerate(node_category):\n",
    "    for cat_idx, cat in enumerate(fixed_cat):\n",
    "        if node_cat == cat:\n",
    "            node_category_array[node_idx, cat_idx] = 1\n",
    "print(np.sum(node_category_array, axis=1))\n",
    "print(node_category_array)"
   ]
  },
  {
   "cell_type": "code",
   "execution_count": 21,
   "metadata": {},
   "outputs": [
    {
     "name": "stdout",
     "output_type": "stream",
     "text": [
      "[[0. 0. 0. ... 0. 0. 0.]\n",
      " [0. 0. 0. ... 0. 0. 0.]\n",
      " [0. 0. 0. ... 0. 1. 0.]\n",
      " ...\n",
      " [0. 0. 0. ... 0. 1. 0.]\n",
      " [0. 0. 0. ... 0. 1. 0.]\n",
      " [0. 0. 0. ... 0. 1. 0.]]\n",
      "(2708, 1440)\n"
     ]
    }
   ],
   "source": [
    "node_whole_features = np.concatenate([node_features, node_category_array], axis=1)\n",
    "print(node_whole_features)\n",
    "print(node_whole_features.shape)"
   ]
  },
  {
   "cell_type": "code",
   "execution_count": 22,
   "metadata": {},
   "outputs": [],
   "source": [
    "sparse_adj_mat = sparse.csc_matrix(adj_mat)\n",
    "sparse_feat_mat = sparse.csc_matrix(node_whole_features)\n",
    "sparse.save_npz('cora_adjacency.npz', sparse_adj_mat)\n",
    "sparse.save_npz('cora_features_raw.npz', sparse_feat_mat)"
   ]
  },
  {
   "cell_type": "code",
   "execution_count": 25,
   "metadata": {},
   "outputs": [],
   "source": [
    "import json\n",
    "node_list_serial = {int(key): int(val) for key, val in node_list.items()}\n",
    "with open('cora_node_list.json', 'w+') as jfile:\n",
    "    jfile.write(json.dumps(node_list_serial, sort_keys=True))"
   ]
  },
  {
   "cell_type": "code",
   "execution_count": 1,
   "metadata": {},
   "outputs": [],
   "source": [
    "import data_utils\n",
    "\n",
    "_, _, labels = data_utils.load_cora()"
   ]
  },
  {
   "cell_type": "code",
   "execution_count": 23,
   "metadata": {
    "scrolled": true
   },
   "outputs": [
    {
     "name": "stdout",
     "output_type": "stream",
     "text": [
      "2708\n",
      "140\n",
      "500\n",
      "2068\n",
      "(array([], dtype=int64),)\n",
      "(array([], dtype=int64),)\n",
      "(array([], dtype=int64),)\n",
      "(array([], dtype=int64),)\n"
     ]
    }
   ],
   "source": [
    "import numpy as np\n",
    "\n",
    "def split_data(cora_labels, train_each_class=20, validation=500):\n",
    "    train_mask = np.zeros((cora_labels.shape[0]))\n",
    "    for class_idx in range(cora_labels.shape[1]):\n",
    "        train_mask[np.random.choice(np.argwhere(cora_labels[:, class_idx])[:,0],\n",
    "                                   size=train_each_class, replace=False)] = 1\n",
    "    remaining_mask = 1 - train_mask\n",
    "    val_mask = np.zeros((cora_labels.shape[0],))\n",
    "    val_idx = np.random.choice(np.argwhere(remaining_mask)[:,0], size=validation, replace=False)\n",
    "    remaining_mask[val_idx] = 2\n",
    "    test_mask = 1 - train_mask - val_mask\n",
    "    return train_mask, remaining_mask + train_mask - 1, 2 - 2 * train_mask - remaining_mask\n",
    "\n",
    "train, val, test = split_data(labels)\n",
    "print(labels.shape[0])\n",
    "print(np.count_nonzero(train))\n",
    "print(np.count_nonzero(val))\n",
    "print(np.count_nonzero(test))\n",
    "\n",
    "def check_disjoint(mask1, mask2):\n",
    "    print(np.nonzero(np.multiply(mask1, mask2)))\n",
    "\n",
    "check_disjoint(train, val)\n",
    "check_disjoint(train, test)\n",
    "check_disjoint(test, val)\n",
    "\n",
    "print(np.nonzero(np.multiply(train, np.multiply(test, val))))"
   ]
  },
  {
   "cell_type": "code",
   "execution_count": null,
   "metadata": {},
   "outputs": [],
   "source": []
  },
  {
   "cell_type": "code",
   "execution_count": null,
   "metadata": {},
   "outputs": [],
   "source": []
  },
  {
   "cell_type": "code",
   "execution_count": null,
   "metadata": {},
   "outputs": [],
   "source": []
  },
  {
   "cell_type": "code",
   "execution_count": null,
   "metadata": {},
   "outputs": [],
   "source": []
  }
 ],
 "metadata": {
  "kernelspec": {
   "display_name": "Python 3",
   "language": "python",
   "name": "python3"
  },
  "language_info": {
   "codemirror_mode": {
    "name": "ipython",
    "version": 3
   },
   "file_extension": ".py",
   "mimetype": "text/x-python",
   "name": "python",
   "nbconvert_exporter": "python",
   "pygments_lexer": "ipython3",
   "version": "3.8.1"
  }
 },
 "nbformat": 4,
 "nbformat_minor": 4
}
